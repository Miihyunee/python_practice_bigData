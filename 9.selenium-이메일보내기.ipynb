{
 "cells": [
  {
   "cell_type": "code",
   "execution_count": 13,
   "metadata": {},
   "outputs": [],
   "source": [
    "#pip install webdriver-manager\n",
    "from selenium import webdriver\n",
    "from webdriver_manager.chrome import ChromeDriverManager\n",
    "from selenium.webdriver.chrome.service import Service\n",
    "ChromeDriverManager().install()\n",
    "driver = webdriver.Chrome(service=Service(ChromeDriverManager().install()))"
   ]
  },
  {
   "cell_type": "code",
   "execution_count": 14,
   "metadata": {},
   "outputs": [],
   "source": [
    "import time\n",
    "from selenium.webdriver.common.keys import Keys\n",
    "import clipboard\n",
    "driver.get(\"https://mail.naver.com\")\n",
    "time.sleep(3)"
   ]
  },
  {
   "cell_type": "code",
   "execution_count": 15,
   "metadata": {},
   "outputs": [],
   "source": [
    "loginID = \"아이디\"\n",
    "clipboard.copy(loginID)\n",
    "# Ctrl + v\n",
    "driver.find_element('xpath','//*[@id=\"id\"]').send_keys(Keys.CONTROL, 'v')\n",
    "time.sleep(1)\n",
    "\n",
    "loginPW = \"비밀번호\"\n",
    "clipboard.copy(loginPW)\n",
    "driver.find_element('xpath','//*[@id=\"pw\"]').send_keys(Keys.CONTROL, 'v')\n",
    "time.sleep(1)\n",
    "# 로그인 상태 유지\n",
    "from selenium.webdriver import ActionChains\n",
    "rdo=driver.find_element('xpath', '//*[@id=\"keep\"]')\n",
    "# 연쇄동작 (이동 + 클릭)\n",
    "actions = ActionChains(driver)\n",
    "actions.move_to_element(rdo).click().perform()\n",
    "time.sleep(1)"
   ]
  },
  {
   "cell_type": "code",
   "execution_count": 16,
   "metadata": {},
   "outputs": [
    {
     "ename": "NoSuchElementException",
     "evalue": "Message: no such element: Unable to locate element: {\"method\":\"xpath\",\"selector\":\"//*[@id=\"layer\"]/div/div/div/div[2]/div[2]/button[2]\"}\n  (Session info: chrome=122.0.6261.95); For documentation on this error, please visit: https://www.selenium.dev/documentation/webdriver/troubleshooting/errors#no-such-element-exception\nStacktrace:\n\tGetHandleVerifier [0x010A8C93+51395]\n\t(No symbol) [0x01015EF1]\n\t(No symbol) [0x00ECE13A]\n\t(No symbol) [0x00F062BB]\n\t(No symbol) [0x00F063EB]\n\t(No symbol) [0x00F3C162]\n\t(No symbol) [0x00F23ED4]\n\t(No symbol) [0x00F3A570]\n\t(No symbol) [0x00F23C26]\n\t(No symbol) [0x00EFC629]\n\t(No symbol) [0x00EFD40D]\n\tGetHandleVerifier [0x01426453+3711107]\n\tGetHandleVerifier [0x0146583A+3970154]\n\tGetHandleVerifier [0x01460B28+3950424]\n\tGetHandleVerifier [0x01159C99+776393]\n\t(No symbol) [0x010216C4]\n\t(No symbol) [0x0101C5A8]\n\t(No symbol) [0x0101C759]\n\t(No symbol) [0x0100DD80]\n\tBaseThreadInitThunk [0x76917BA9+25]\n\tRtlInitializeExceptionChain [0x773DBD2B+107]\n\tRtlClearBits [0x773DBCAF+191]\n",
     "output_type": "error",
     "traceback": [
      "\u001b[1;31m---------------------------------------------------------------------------\u001b[0m",
      "\u001b[1;31mNoSuchElementException\u001b[0m                    Traceback (most recent call last)",
      "Cell \u001b[1;32mIn[16], line 45\u001b[0m\n\u001b[0;32m     42\u001b[0m driver\u001b[38;5;241m.\u001b[39mfind_element(\u001b[38;5;124m'\u001b[39m\u001b[38;5;124mxpath\u001b[39m\u001b[38;5;124m'\u001b[39m,\u001b[38;5;124m'\u001b[39m\u001b[38;5;124m//*[@id=\u001b[39m\u001b[38;5;124m\"\u001b[39m\u001b[38;5;124mcontent\u001b[39m\u001b[38;5;124m\"\u001b[39m\u001b[38;5;124m]/div[2]/div[1]/div/button[1]\u001b[39m\u001b[38;5;124m'\u001b[39m)\u001b[38;5;241m.\u001b[39mclick()\n\u001b[0;32m     43\u001b[0m time\u001b[38;5;241m.\u001b[39msleep(\u001b[38;5;241m3\u001b[39m)\n\u001b[1;32m---> 45\u001b[0m \u001b[43mdriver\u001b[49m\u001b[38;5;241;43m.\u001b[39;49m\u001b[43mfind_element\u001b[49m\u001b[43m(\u001b[49m\u001b[38;5;124;43m'\u001b[39;49m\u001b[38;5;124;43mxpath\u001b[39;49m\u001b[38;5;124;43m'\u001b[39;49m\u001b[43m,\u001b[49m\u001b[38;5;124;43m'\u001b[39;49m\u001b[38;5;124;43m//*[@id=\u001b[39;49m\u001b[38;5;124;43m\"\u001b[39;49m\u001b[38;5;124;43mlayer\u001b[39;49m\u001b[38;5;124;43m\"\u001b[39;49m\u001b[38;5;124;43m]/div/div/div/div[2]/div[2]/button[2]\u001b[39;49m\u001b[38;5;124;43m'\u001b[39;49m\u001b[43m)\u001b[49m\u001b[38;5;241m.\u001b[39mclick()\n\u001b[0;32m     47\u001b[0m \u001b[38;5;66;03m# driver.close()\u001b[39;00m\n",
      "File \u001b[1;32mc:\\python312\\Lib\\site-packages\\selenium\\webdriver\\remote\\webdriver.py:741\u001b[0m, in \u001b[0;36mWebDriver.find_element\u001b[1;34m(self, by, value)\u001b[0m\n\u001b[0;32m    738\u001b[0m     by \u001b[38;5;241m=\u001b[39m By\u001b[38;5;241m.\u001b[39mCSS_SELECTOR\n\u001b[0;32m    739\u001b[0m     value \u001b[38;5;241m=\u001b[39m \u001b[38;5;124mf\u001b[39m\u001b[38;5;124m'\u001b[39m\u001b[38;5;124m[name=\u001b[39m\u001b[38;5;124m\"\u001b[39m\u001b[38;5;132;01m{\u001b[39;00mvalue\u001b[38;5;132;01m}\u001b[39;00m\u001b[38;5;124m\"\u001b[39m\u001b[38;5;124m]\u001b[39m\u001b[38;5;124m'\u001b[39m\n\u001b[1;32m--> 741\u001b[0m \u001b[38;5;28;01mreturn\u001b[39;00m \u001b[38;5;28;43mself\u001b[39;49m\u001b[38;5;241;43m.\u001b[39;49m\u001b[43mexecute\u001b[49m\u001b[43m(\u001b[49m\u001b[43mCommand\u001b[49m\u001b[38;5;241;43m.\u001b[39;49m\u001b[43mFIND_ELEMENT\u001b[49m\u001b[43m,\u001b[49m\u001b[43m \u001b[49m\u001b[43m{\u001b[49m\u001b[38;5;124;43m\"\u001b[39;49m\u001b[38;5;124;43musing\u001b[39;49m\u001b[38;5;124;43m\"\u001b[39;49m\u001b[43m:\u001b[49m\u001b[43m \u001b[49m\u001b[43mby\u001b[49m\u001b[43m,\u001b[49m\u001b[43m \u001b[49m\u001b[38;5;124;43m\"\u001b[39;49m\u001b[38;5;124;43mvalue\u001b[39;49m\u001b[38;5;124;43m\"\u001b[39;49m\u001b[43m:\u001b[49m\u001b[43m \u001b[49m\u001b[43mvalue\u001b[49m\u001b[43m}\u001b[49m\u001b[43m)\u001b[49m[\u001b[38;5;124m\"\u001b[39m\u001b[38;5;124mvalue\u001b[39m\u001b[38;5;124m\"\u001b[39m]\n",
      "File \u001b[1;32mc:\\python312\\Lib\\site-packages\\selenium\\webdriver\\remote\\webdriver.py:347\u001b[0m, in \u001b[0;36mWebDriver.execute\u001b[1;34m(self, driver_command, params)\u001b[0m\n\u001b[0;32m    345\u001b[0m response \u001b[38;5;241m=\u001b[39m \u001b[38;5;28mself\u001b[39m\u001b[38;5;241m.\u001b[39mcommand_executor\u001b[38;5;241m.\u001b[39mexecute(driver_command, params)\n\u001b[0;32m    346\u001b[0m \u001b[38;5;28;01mif\u001b[39;00m response:\n\u001b[1;32m--> 347\u001b[0m     \u001b[38;5;28;43mself\u001b[39;49m\u001b[38;5;241;43m.\u001b[39;49m\u001b[43merror_handler\u001b[49m\u001b[38;5;241;43m.\u001b[39;49m\u001b[43mcheck_response\u001b[49m\u001b[43m(\u001b[49m\u001b[43mresponse\u001b[49m\u001b[43m)\u001b[49m\n\u001b[0;32m    348\u001b[0m     response[\u001b[38;5;124m\"\u001b[39m\u001b[38;5;124mvalue\u001b[39m\u001b[38;5;124m\"\u001b[39m] \u001b[38;5;241m=\u001b[39m \u001b[38;5;28mself\u001b[39m\u001b[38;5;241m.\u001b[39m_unwrap_value(response\u001b[38;5;241m.\u001b[39mget(\u001b[38;5;124m\"\u001b[39m\u001b[38;5;124mvalue\u001b[39m\u001b[38;5;124m\"\u001b[39m, \u001b[38;5;28;01mNone\u001b[39;00m))\n\u001b[0;32m    349\u001b[0m     \u001b[38;5;28;01mreturn\u001b[39;00m response\n",
      "File \u001b[1;32mc:\\python312\\Lib\\site-packages\\selenium\\webdriver\\remote\\errorhandler.py:229\u001b[0m, in \u001b[0;36mErrorHandler.check_response\u001b[1;34m(self, response)\u001b[0m\n\u001b[0;32m    227\u001b[0m         alert_text \u001b[38;5;241m=\u001b[39m value[\u001b[38;5;124m\"\u001b[39m\u001b[38;5;124malert\u001b[39m\u001b[38;5;124m\"\u001b[39m]\u001b[38;5;241m.\u001b[39mget(\u001b[38;5;124m\"\u001b[39m\u001b[38;5;124mtext\u001b[39m\u001b[38;5;124m\"\u001b[39m)\n\u001b[0;32m    228\u001b[0m     \u001b[38;5;28;01mraise\u001b[39;00m exception_class(message, screen, stacktrace, alert_text)  \u001b[38;5;66;03m# type: ignore[call-arg]  # mypy is not smart enough here\u001b[39;00m\n\u001b[1;32m--> 229\u001b[0m \u001b[38;5;28;01mraise\u001b[39;00m exception_class(message, screen, stacktrace)\n",
      "\u001b[1;31mNoSuchElementException\u001b[0m: Message: no such element: Unable to locate element: {\"method\":\"xpath\",\"selector\":\"//*[@id=\"layer\"]/div/div/div/div[2]/div[2]/button[2]\"}\n  (Session info: chrome=122.0.6261.95); For documentation on this error, please visit: https://www.selenium.dev/documentation/webdriver/troubleshooting/errors#no-such-element-exception\nStacktrace:\n\tGetHandleVerifier [0x010A8C93+51395]\n\t(No symbol) [0x01015EF1]\n\t(No symbol) [0x00ECE13A]\n\t(No symbol) [0x00F062BB]\n\t(No symbol) [0x00F063EB]\n\t(No symbol) [0x00F3C162]\n\t(No symbol) [0x00F23ED4]\n\t(No symbol) [0x00F3A570]\n\t(No symbol) [0x00F23C26]\n\t(No symbol) [0x00EFC629]\n\t(No symbol) [0x00EFD40D]\n\tGetHandleVerifier [0x01426453+3711107]\n\tGetHandleVerifier [0x0146583A+3970154]\n\tGetHandleVerifier [0x01460B28+3950424]\n\tGetHandleVerifier [0x01159C99+776393]\n\t(No symbol) [0x010216C4]\n\t(No symbol) [0x0101C5A8]\n\t(No symbol) [0x0101C759]\n\t(No symbol) [0x0100DD80]\n\tBaseThreadInitThunk [0x76917BA9+25]\n\tRtlInitializeExceptionChain [0x773DBD2B+107]\n\tRtlClearBits [0x773DBCAF+191]\n"
     ]
    }
   ],
   "source": [
    "# 로그인 버튼 클릭\n",
    "driver.find_element('xpath','//*[@id=\"log.login\"]').click()\n",
    "time.sleep(1)\n",
    "\n",
    "# 등록 버튼 클릭\n",
    "driver.find_element('xpath','//*[@id=\"new.save\"]').click()\n",
    "time.sleep(3)\n",
    "\n",
    "# 메일쓰기\n",
    "driver.find_element('xpath','//*[@id=\"root\"]/div/nav/div/div[1]/div[2]/a[1]').click()\n",
    "time.sleep(1)\n",
    "\n",
    "# 받는 사람\n",
    "mail_to = '받는 사람 이메일 주소'\n",
    "\n",
    "# 제목\n",
    "mail_title = '테스트 메일입니다.'\n",
    "\n",
    "# 내용\n",
    "mail_cont = '안녕하세요!'\n",
    "\n",
    "driver.find_element('xpath','//*[@id=\"subject_title\"]').send_keys(mail_title)\n",
    "time.sleep(1)\n",
    "\n",
    "# 파일 첨부\n",
    "driver.find_element('xpath','//*[@id=\"ATTACH_LOCAL_FILE_ELEMENT_ID\"]').send_keys(r'c:\\data/images\\pineapple.jpg')\n",
    "driver.find_element('xpath','//*[@id=\"recipient_input_element\"]').send_keys(mail_to)\n",
    "\n",
    "time.sleep(1)\n",
    "\n",
    "# iframe으로 이동\n",
    "driver.switch_to.frame(driver.find_element('xpath','//*[@id=\"content\"]/div[3]/div/div[2]/div/div[3]/iframe'))\n",
    "driver.find_element('xpath','/html/body/div/div[1]').send_keys(mail_cont)\n",
    "\n",
    "time.sleep(3)\n",
    "\n",
    "# 메인프레임으로 빠져나오기\n",
    "driver.switch_to.parent_frame()\n",
    "time.sleep(3)\n",
    "\n",
    "# 메일 보내기 버튼 클릭\n",
    "driver.find_element('xpath','//*[@id=\"content\"]/div[2]/div[1]/div/button[1]').click()\n",
    "time.sleep(3)\n",
    "\n",
    "driver.find_element('xpath','//*[@id=\"layer\"]/div/div/div/div[2]/div[2]/button[2]').click()\n",
    "\n",
    "# driver.close()\n",
    "\n",
    "\n"
   ]
  }
 ],
 "metadata": {
  "kernelspec": {
   "display_name": "Python 3",
   "language": "python",
   "name": "python3"
  },
  "language_info": {
   "codemirror_mode": {
    "name": "ipython",
    "version": 3
   },
   "file_extension": ".py",
   "mimetype": "text/x-python",
   "name": "python",
   "nbconvert_exporter": "python",
   "pygments_lexer": "ipython3",
   "version": "3.12.1"
  }
 },
 "nbformat": 4,
 "nbformat_minor": 2
}
