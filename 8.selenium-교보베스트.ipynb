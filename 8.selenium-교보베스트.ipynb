{
 "cells": [
  {
   "cell_type": "code",
   "execution_count": 20,
   "metadata": {},
   "outputs": [],
   "source": [
    "#pip install webdriver-manager\n",
    "from selenium import webdriver\n",
    "from webdriver_manager.chrome import ChromeDriverManager\n",
    "from selenium.webdriver.chrome.service import Service\n",
    "ChromeDriverManager().install()\n",
    "driver = webdriver.Chrome(service=Service(ChromeDriverManager().install()))"
   ]
  },
  {
   "cell_type": "code",
   "execution_count": 21,
   "metadata": {},
   "outputs": [],
   "source": [
    "import time\n",
    "driver.get(\"https://product.kyobobook.co.kr/bestseller/total?period=003\")\n",
    "time.sleep(3)"
   ]
  },
  {
   "cell_type": "code",
   "execution_count": 22,
   "metadata": {},
   "outputs": [],
   "source": [
    "# 더보기\n",
    "driver.find_element('xpath', '//*[@id=\"contents\"]/div[2]/div/div[1]/button').click()"
   ]
  },
  {
   "cell_type": "code",
   "execution_count": 23,
   "metadata": {},
   "outputs": [],
   "source": [
    "time.sleep(1)\n",
    "# 기술/컴퓨터\n",
    "driver.find_element('xpath', '//*[@id=\"classificationList\"]/ul/li[25]/button').click()\n",
    "\n",
    "time.sleep(5)"
   ]
  },
  {
   "cell_type": "code",
   "execution_count": 24,
   "metadata": {},
   "outputs": [
    {
     "name": "stdout",
     "output_type": "stream",
     "text": [
      "1\n",
      "2\n",
      "3\n",
      "4\n",
      "5\n",
      "6\n",
      "7\n",
      "8\n",
      "9\n",
      "10\n",
      "1\n"
     ]
    },
    {
     "data": {
      "text/plain": [
       "['진짜 쓰는 실무 엑셀',\n",
       " 'Do it! 점프 투 파이썬',\n",
       " '회사는 엑셀을 가르쳐주지 않아요',\n",
       " '가상 면접 사례로 배우는 대규모 시스템 설계 기초 2',\n",
       " '혼자 공부하는 파이썬',\n",
       " '진짜 챗GPT 활용법',\n",
       " '조코딩의 챗GPT API를 활용한 수익형 웹 서비스 만들기',\n",
       " '혼자 공부하는 컴퓨터 구조+운영체제',\n",
       " '프롬프트 엔지니어링으로 인공지능 제대로 일 시키기',\n",
       " '가상 면접 사례로 배우는 대규모 시스템 설계 기초',\n",
       " '미드저니 프롬프트 마스터 가이드']"
      ]
     },
     "execution_count": 24,
     "metadata": {},
     "output_type": "execute_result"
    }
   ],
   "source": [
    "items=[]\n",
    "# 페이지링크\n",
    "while True:\n",
    "    try:\n",
    "        for j in range(1,11):\n",
    "            print(j)\n",
    "            book = driver.find_element('xpath',f'//*[@id=\"tabRoot\"]/div[3]/ol[1]/li[{j}]/div[2]/div[2]/div[3]/div/div/a').text\n",
    "            time.sleep(1)\n",
    "            items.append(book)\n",
    "        for j in range(1,11):\n",
    "            print(j)\n",
    "            book = driver.find_element('xpath',f'//*[@id=\"tabRoot\"]/div[3]/ol[2]/li[{j}]/div[2]/div[2]/div[3]/div/div/a').text\n",
    "            time.sleep(1)    \n",
    "            items.append(book)\n",
    "\n",
    "            # 다음페이지 버튼\n",
    "            driver.find_element('xpath',f'//*[@id=\"tabRoot\"]/div[2]/div[1]/button[2]').click()                 \n",
    "            time.sleep(5)\n",
    "    except:\n",
    "        break\n",
    "items\n",
    "            "
   ]
  },
  {
   "cell_type": "code",
   "execution_count": 25,
   "metadata": {},
   "outputs": [],
   "source": [
    "import pandas as pd\n",
    "df = pd.DataFrame(items)\n",
    "df.columns=['제목']\n",
    "df.to_csv('data/kyobo-it-best.csv', index=False, encoding='ms949')"
   ]
  },
  {
   "cell_type": "code",
   "execution_count": 26,
   "metadata": {},
   "outputs": [],
   "source": [
    "# 크롬브라우저 종료\n",
    "driver.quit()"
   ]
  },
  {
   "cell_type": "code",
   "execution_count": 27,
   "metadata": {},
   "outputs": [
    {
     "name": "stdout",
     "output_type": "stream",
     "text": [
      "['제목\\n', '진짜 쓰는 실무 엑셀\\n', 'Do it! 점프 투 파이썬\\n', '회사는 엑셀을 가르쳐주지 않아요\\n', '가상 면접 사례로 배우는 대규모 시스템 설계 기초 2\\n', '혼자 공부하는 파이썬\\n', '진짜 챗GPT 활용법\\n', '조코딩의 챗GPT API를 활용한 수익형 웹 서비스 만들기\\n', '혼자 공부하는 컴퓨터 구조+운영체제\\n', '프롬프트 엔지니어링으로 인공지능 제대로 일 시키기\\n', '가상 면접 사례로 배우는 대규모 시스템 설계 기초\\n', '미드저니 프롬프트 마스터 가이드\\n']\n"
     ]
    }
   ],
   "source": [
    "f = open(\"data/kyobo-it-best.csv\")\n",
    "lines = f.readlines()\n",
    "print(lines)\n",
    "f.close()"
   ]
  },
  {
   "cell_type": "code",
   "execution_count": 28,
   "metadata": {},
   "outputs": [
    {
     "data": {
      "text/plain": [
       "[['진짜', '실무', '엑셀'],\n",
       " ['점프', '투', '파이썬'],\n",
       " ['회사', '엑셀'],\n",
       " ['가상', '면접', '사례', '대규모', '시스템', '설계', '기초', '2'],\n",
       " ['공부', '파이썬'],\n",
       " ['진짜', '챗GPT', '활용법'],\n",
       " ['조코딩', '챗GPT', '활용', '수익형', '웹', '서비스', '만들기'],\n",
       " ['공부', '컴퓨터', '구조+운영체제'],\n",
       " ['프롬프트', '엔지니어링', '인공지능', '일'],\n",
       " ['가상', '면접', '사례', '대규모', '시스템', '설계', '기초'],\n",
       " ['미드저니', '프롬프트', '마스터', '가이드']]"
      ]
     },
     "execution_count": 28,
     "metadata": {},
     "output_type": "execute_result"
    }
   ],
   "source": [
    "from multiprocessing.resource_sharer import stop\n",
    "from konlpy.tag import Hannanum\n",
    "\n",
    "# 한나눔 패키지\n",
    "# 텍스트 마이닝 기법\n",
    "han = Hannanum() \n",
    "\n",
    "temp = []\n",
    "for i in range(1, len(lines)):\n",
    "    # 명사만 추출\n",
    "    a = lines[i].strip()\n",
    "    temp.append(han.nouns(a))\n",
    "temp"
   ]
  },
  {
   "cell_type": "code",
   "execution_count": 29,
   "metadata": {},
   "outputs": [
    {
     "data": {
      "text/plain": [
       "['진짜',\n",
       " '실무',\n",
       " '엑셀',\n",
       " '점프',\n",
       " '투',\n",
       " '파이썬',\n",
       " '회사',\n",
       " '엑셀',\n",
       " '가상',\n",
       " '면접',\n",
       " '사례',\n",
       " '대규모',\n",
       " '시스템',\n",
       " '설계',\n",
       " '기초',\n",
       " '2',\n",
       " '공부',\n",
       " '파이썬',\n",
       " '진짜',\n",
       " '챗GPT',\n",
       " '활용법',\n",
       " '조코딩',\n",
       " '챗GPT',\n",
       " '활용',\n",
       " '수익형',\n",
       " '웹',\n",
       " '서비스',\n",
       " '만들기',\n",
       " '공부',\n",
       " '컴퓨터',\n",
       " '구조+운영체제',\n",
       " '프롬프트',\n",
       " '엔지니어링',\n",
       " '인공지능',\n",
       " '일',\n",
       " '가상',\n",
       " '면접',\n",
       " '사례',\n",
       " '대규모',\n",
       " '시스템',\n",
       " '설계',\n",
       " '기초',\n",
       " '미드저니',\n",
       " '프롬프트',\n",
       " '마스터',\n",
       " '가이드']"
      ]
     },
     "execution_count": 29,
     "metadata": {},
     "output_type": "execute_result"
    }
   ],
   "source": [
    "# 2차원 리스트를 1차원 리스트로 변환하는 함수\n",
    "def flatten(items):\n",
    "    flatList = []\n",
    "    for elem in items:\n",
    "        if type(elem) == list: # 자료형이 list이면\n",
    "            for e in elem:\n",
    "                flatList.append(e)\n",
    "        else:\n",
    "            flatList.append(elem)\n",
    "    return flatList\n",
    "word_list = flatten(temp)\n",
    "word_list"
   ]
  },
  {
   "cell_type": "code",
   "execution_count": 30,
   "metadata": {},
   "outputs": [
    {
     "data": {
      "text/plain": [
       "0          진짜\n",
       "1          실무\n",
       "2          엑셀\n",
       "3          점프\n",
       "4         파이썬\n",
       "5          회사\n",
       "6          엑셀\n",
       "7          가상\n",
       "8          면접\n",
       "9          사례\n",
       "10        대규모\n",
       "11        시스템\n",
       "12         설계\n",
       "13         기초\n",
       "14         공부\n",
       "15        파이썬\n",
       "16         진짜\n",
       "17       챗GPT\n",
       "18        활용법\n",
       "19        조코딩\n",
       "20       챗GPT\n",
       "21         활용\n",
       "22        수익형\n",
       "23        서비스\n",
       "24        만들기\n",
       "25         공부\n",
       "26        컴퓨터\n",
       "27    구조+운영체제\n",
       "28       프롬프트\n",
       "29      엔지니어링\n",
       "30       인공지능\n",
       "31         가상\n",
       "32         면접\n",
       "33         사례\n",
       "34        대규모\n",
       "35        시스템\n",
       "36         설계\n",
       "37         기초\n",
       "38       미드저니\n",
       "39       프롬프트\n",
       "40        마스터\n",
       "41        가이드\n",
       "dtype: object"
      ]
     },
     "execution_count": 30,
     "metadata": {},
     "output_type": "execute_result"
    }
   ],
   "source": [
    "# 두글자 이상인 단어만 추출\n",
    "word_list = pd.Series([x for x in word_list if len(x) > 1])\n",
    "word_list"
   ]
  },
  {
   "cell_type": "code",
   "execution_count": 31,
   "metadata": {},
   "outputs": [
    {
     "data": {
      "text/plain": [
       "0          진짜\n",
       "1          실무\n",
       "2          엑셀\n",
       "3          점프\n",
       "4         파이썬\n",
       "5          회사\n",
       "6          엑셀\n",
       "7          가상\n",
       "8          면접\n",
       "9          사례\n",
       "10        대규모\n",
       "11        시스템\n",
       "12         설계\n",
       "13         기초\n",
       "14         공부\n",
       "15        파이썬\n",
       "16         진짜\n",
       "17       챗GPT\n",
       "18        활용법\n",
       "19        조코딩\n",
       "20       챗GPT\n",
       "21         활용\n",
       "22        수익형\n",
       "23        서비스\n",
       "24        만들기\n",
       "25         공부\n",
       "26        컴퓨터\n",
       "27    구조+운영체제\n",
       "28       프롬프트\n",
       "29      엔지니어링\n",
       "30       인공지능\n",
       "31         가상\n",
       "32         면접\n",
       "33         사례\n",
       "34        대규모\n",
       "35        시스템\n",
       "36         설계\n",
       "37         기초\n",
       "38       미드저니\n",
       "39       프롬프트\n",
       "40        마스터\n",
       "41        가이드\n",
       "dtype: object"
      ]
     },
     "execution_count": 31,
     "metadata": {},
     "output_type": "execute_result"
    }
   ],
   "source": [
    "# 불용어\n",
    "stopwords = ['제목', '이것', '2023', '2023', '2024']\n",
    "word_list = pd.Series([x for x in word_list if x not in stopwords])\n",
    "word_list"
   ]
  },
  {
   "cell_type": "code",
   "execution_count": 32,
   "metadata": {},
   "outputs": [
    {
     "name": "stdout",
     "output_type": "stream",
     "text": [
      "진짜         2\n",
      "사례         2\n",
      "프롬프트       2\n",
      "공부         2\n",
      "기초         2\n",
      "설계         2\n",
      "시스템        2\n",
      "대규모        2\n",
      "챗GPT       2\n",
      "면접         2\n",
      "파이썬        2\n",
      "엑셀         2\n",
      "가상         2\n",
      "만들기        1\n",
      "마스터        1\n",
      "미드저니       1\n",
      "인공지능       1\n",
      "엔지니어링      1\n",
      "구조+운영체제    1\n",
      "컴퓨터        1\n",
      "Name: count, dtype: int64\n"
     ]
    }
   ],
   "source": [
    "# 단어별 출현 빈도\n",
    "print(word_list.value_counts().head(20))"
   ]
  },
  {
   "cell_type": "code",
   "execution_count": 33,
   "metadata": {},
   "outputs": [
    {
     "name": "stdout",
     "output_type": "stream",
     "text": [
      "진짜-2\n",
      "사례-2\n",
      "프롬프트-2\n",
      "공부-2\n",
      "기초-2\n",
      "설계-2\n",
      "시스템-2\n",
      "대규모-2\n",
      "챗GPT-2\n",
      "면접-2\n",
      "파이썬-2\n",
      "엑셀-2\n",
      "가상-2\n",
      "\n"
     ]
    }
   ],
   "source": [
    "a = word_list.value_counts().head(20)\n",
    "b=a.index\n",
    "c=a.values\n",
    "result=''\n",
    "for item in list(zip(b,c)):\n",
    "    if item[1] >= 2:\n",
    "        result += item[0]+'-'+str(item[1])+ '\\n'\n",
    "print(result)"
   ]
  }
 ],
 "metadata": {
  "kernelspec": {
   "display_name": "Python 3",
   "language": "python",
   "name": "python3"
  },
  "language_info": {
   "codemirror_mode": {
    "name": "ipython",
    "version": 3
   },
   "file_extension": ".py",
   "mimetype": "text/x-python",
   "name": "python",
   "nbconvert_exporter": "python",
   "pygments_lexer": "ipython3",
   "version": "3.12.1"
  }
 },
 "nbformat": 4,
 "nbformat_minor": 2
}
