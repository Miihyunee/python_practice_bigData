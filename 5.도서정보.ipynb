{
 "cells": [
  {
   "cell_type": "code",
   "execution_count": 2,
   "metadata": {},
   "outputs": [],
   "source": [
    "from urllib.request import urlopen\n",
    "from bs4 import BeautifulSoup\n",
    "from urllib import parse\n",
    "\n",
    "book_name = '빅데이터분석기사'\n",
    "book_name = parse.quote(book_name)\n",
    "html = urlopen('https://search.kyobobook.co.kr/search?keyword='+book_name+'&gbCode=TOT&target=kyobo')\n",
    "bs = BeautifulSoup(html, 'html.parser')"
   ]
  },
  {
   "cell_type": "code",
   "execution_count": 3,
   "metadata": {},
   "outputs": [
    {
     "name": "stdout",
     "output_type": "stream",
     "text": [
      "https://search.kyobobook.co.kr/search?keyword=%EB%B9%85%EB%8D%B0%EC%9D%B4%ED%84%B0%EB%B6%84%EC%84%9D%EA%B8%B0%EC%82%AC&gbCode=TOT&target=kyobo&page=1\n",
      "https://search.kyobobook.co.kr/search?keyword=%EB%B9%85%EB%8D%B0%EC%9D%B4%ED%84%B0%EB%B6%84%EC%84%9D%EA%B8%B0%EC%82%AC&gbCode=TOT&target=kyobo&page=2\n",
      "https://search.kyobobook.co.kr/search?keyword=%EB%B9%85%EB%8D%B0%EC%9D%B4%ED%84%B0%EB%B6%84%EC%84%9D%EA%B8%B0%EC%82%AC&gbCode=TOT&target=kyobo&page=3\n",
      "https://search.kyobobook.co.kr/search?keyword=%EB%B9%85%EB%8D%B0%EC%9D%B4%ED%84%B0%EB%B6%84%EC%84%9D%EA%B8%B0%EC%82%AC&gbCode=TOT&target=kyobo&page=4\n",
      "https://search.kyobobook.co.kr/search?keyword=%EB%B9%85%EB%8D%B0%EC%9D%B4%ED%84%B0%EB%B6%84%EC%84%9D%EA%B8%B0%EC%82%AC&gbCode=TOT&target=kyobo&page=5\n"
     ]
    }
   ],
   "source": [
    "new_titles = []\n",
    "new_authors=[]\n",
    "new_price=[]\n",
    "for i in range(1, 6):\n",
    "    html=urlopen('https://search.kyobobook.co.kr/search?keyword='+book_name+'&gbCode=TOT&target=kyobo&page='+str(i))\n",
    "\n",
    "    print('https://search.kyobobook.co.kr/search?keyword='+book_name+'&gbCode=TOT&target=kyobo&page='+str(i))\n",
    "\n",
    "    bs=BeautifulSoup(html,'html.parser')\n",
    "\n",
    "    titles=bs.select('#shopData_list > ul > li > div.prod_area.horizontal > div.prod_info_box > div.auto_overflow_wrap.prod_name_group > div.auto_overflow_contents > div > a > span')\n",
    "\n",
    "    for title in titles:\n",
    "        if title.text=='[국내도서]' or title.text=='예약판매':\n",
    "            continue\n",
    "        new_titles.append(title.text)\n",
    "\n",
    "    authors=bs.select('#shopData_list > ul > li > div.prod_area.horizontal > div.prod_info_box > div.prod_author_info > div.auto_overflow_wrap.prod_author_group > div.auto_overflow_contents > div > a')\n",
    "\n",
    "    for a in authors:\n",
    "        new_authors.append(a.text)\n",
    "\n",
    "    prices=bs.select('#shopData_list > ul > li > div.prod_area.horizontal > div.prod_info_box > div.prod_price > span.price > span.val')\n",
    "\n",
    "    for p in prices:\n",
    "        new_price.append(p.text) "
   ]
  },
  {
   "cell_type": "code",
   "execution_count": 4,
   "metadata": {},
   "outputs": [
    {
     "name": "stdout",
     "output_type": "stream",
     "text": [
      "81 권 검색\n",
      "==================================================\n",
      "2024 SD에듀 빅데이터분석기사 필기 한권으로 끝내기 - 정혜정 - 33,300\n",
      "빅분기30일합격 2024 빅데이터분석기사 필기 - 장희선 - 30,600\n",
      "2024 이기적 빅데이터분석기사 필기 기본서 - 최우슬 - 29,700\n",
      "스마트공장 질적 고도화를 위한 - 최다정 - 18,000\n",
      "제조AI빅데이터 분석기법 - 나홍석 - 29,700\n",
      "2024 빅데이터분석기사 필기 한권완성 - 배원성 - 22,500\n",
      "2024 이기적 빅데이터분석기사 실기 기본서 Python 분석 - 이건길 - 29,700\n",
      "데이터에듀 2024 빅데이터 분석기사 필기 - 이혜영 - 26,100\n",
      "파이썬 한권으로 끝내기: 데이터분석전문가(ADP) + 빅데이터분석기사 실기대비 - 고려사이버대학교 AI·빅데이터 연구소 - 18,000\n",
      "2024 빅데이터 분석기사 필기 핵심요약+적중문제 - 김일중 - 29,250\n",
      "2023 수제비 빅데이터분석기사 필기 1권+2권 합본세트 - 유승화 - 30,600\n",
      "2024 단·축·키 빅데이터 분석기사 필기 - 임성훈 - 29,700\n",
      "2024 수제비 빅데이터분석기사 실기 R+파이썬 - 김흥남 - 27,000\n",
      "2023 빅데이터분석기사 실기 한권완성 파이썬(Python) - 최예신 - 32,400\n",
      "2023 빅데이터분석기사 필기 한권으로 끝내기 - 권태협 - 30,600\n",
      "2023 통계로 통하다 빅데이터 분석기사 필기 - 박진원 - 22,500\n",
      "2023 최적합 빅데이터분석기사 필기 - 이경숙 - 28,800\n",
      "데이터에듀 빅데이터 분석기사 실기 with Python - 이승헌 - 16,200\n",
      "빅데이터 SPSS 최신 분석기법 - 김주현 - 12,600\n",
      "2024 최단기 빅데이터 분석기사 필기: 이론편 - 나홍석 - 31,500\n",
      "2022 공개적 빅데이터분석기사 필기 - 배원성 - 27,000\n",
      "2024 내일은 빅데이터분석기사 필기 - 이건길 - 25,200\n",
      "빅데이터분석기사 필기 - 이혜영 - 20,700\n",
      "2024 내일은 빅데이터분석기사 실기 with 파이썬 - 고려사이버대학교 AI·빅데이터 연구소 - 28,800\n",
      "2022 데이터에듀 빅데이터 분석기사 실기 with R - 윤종식 - 19,800\n",
      "2023 최단기 빅데이터 분석기사 필기 - 최유정 - 30,600\n",
      "2023 단·축·키 빅데이터분석기사 필기 - 한정희 - 29,700\n",
      "2023 빅데이터분석기사 필기 한권완성 - 데싸라면 - 25,200\n",
      "2023 최적합 빅데이터분석기사 실기 - 빨간색 물고기 - 10,800\n",
      "빅데이터 분석기사 실전모의고사(2021) - 자투리코드 - 28,800\n",
      "2022 이지패스 빅데이터분석기사 필기 - 유준수 - 27,000\n",
      "2023 AI EDU 빅데이터 분석기사(필답형+작업형) 한권으로 끝내기 - 이동근 - 30,600\n",
      "2023 R을 이용한 빅데이터분석기사 실기 한권으로 끝내기 - 윤영빈 - 13,500\n",
      "2022 빅데이터 분석기사 필기 핵심요약+적중문제 - 조수연 - 28,800\n",
      "2022 기사패스 빅데이터 분석기사 필기 문제집 800 - 이호형 - 24,300\n",
      "2023 원큐패스 빅데이터분석기사 필기 - 박인상 - 29,700\n",
      "2023 데이터에듀 빅데이터분석기사 필기 - 김학배 - 22,500\n",
      "국가공인자격 빅데이터분석기사 필기 1000 - 서용욱 - 27,000\n",
      "2023 빅데이터분석기사 실기 한권완성 필답형+작업형[파이썬(Python)] - 김계철 - 29,700\n",
      "2023 이기적 빅데이터분석기사 실기 기본서 - 윤영빈 - 30,600\n",
      "2022 공개적 빅데이터분석기사 실기 - 조수연 - 29,700\n",
      "2023 이기적 빅데이터분석기사 필기 기본서 - 이호형 - 30,000\n",
      "2022 빅데이터 분석기사 필기 - 박인상 - 27,000\n",
      "렛유인 - 김학배 - 18,000\n",
      "빅데이터분석기사 필기 한권으로 끝내기(2021) - 서용욱 - 40,500\n",
      "2023 빅데이터분석기사 필기 한권완성 - 최예신 - 25,200\n"
     ]
    }
   ],
   "source": [
    "books = list(zip(new_titles, new_authors, new_price))\n",
    "print(len(new_titles), '권 검색')\n",
    "print('='*50)\n",
    "for book in books:\n",
    "    print(book[0], '-', book[1], '-', book[2])"
   ]
  },
  {
   "cell_type": "code",
   "execution_count": 5,
   "metadata": {},
   "outputs": [
    {
     "data": {
      "text/html": [
       "<div>\n",
       "<style scoped>\n",
       "    .dataframe tbody tr th:only-of-type {\n",
       "        vertical-align: middle;\n",
       "    }\n",
       "\n",
       "    .dataframe tbody tr th {\n",
       "        vertical-align: top;\n",
       "    }\n",
       "\n",
       "    .dataframe thead th {\n",
       "        text-align: right;\n",
       "    }\n",
       "</style>\n",
       "<table border=\"1\" class=\"dataframe\">\n",
       "  <thead>\n",
       "    <tr style=\"text-align: right;\">\n",
       "      <th></th>\n",
       "      <th>도서명</th>\n",
       "      <th>저자</th>\n",
       "      <th>정가</th>\n",
       "    </tr>\n",
       "  </thead>\n",
       "  <tbody>\n",
       "    <tr>\n",
       "      <th>0</th>\n",
       "      <td>2024 SD에듀 빅데이터분석기사 필기 한권으로 끝내기</td>\n",
       "      <td>정혜정</td>\n",
       "      <td>33,300</td>\n",
       "    </tr>\n",
       "    <tr>\n",
       "      <th>1</th>\n",
       "      <td>빅분기30일합격 2024 빅데이터분석기사 필기</td>\n",
       "      <td>장희선</td>\n",
       "      <td>30,600</td>\n",
       "    </tr>\n",
       "    <tr>\n",
       "      <th>2</th>\n",
       "      <td>2024 이기적 빅데이터분석기사 필기 기본서</td>\n",
       "      <td>최우슬</td>\n",
       "      <td>29,700</td>\n",
       "    </tr>\n",
       "    <tr>\n",
       "      <th>3</th>\n",
       "      <td>스마트공장 질적 고도화를 위한</td>\n",
       "      <td>최다정</td>\n",
       "      <td>18,000</td>\n",
       "    </tr>\n",
       "    <tr>\n",
       "      <th>4</th>\n",
       "      <td>제조AI빅데이터 분석기법</td>\n",
       "      <td>나홍석</td>\n",
       "      <td>29,700</td>\n",
       "    </tr>\n",
       "  </tbody>\n",
       "</table>\n",
       "</div>"
      ],
      "text/plain": [
       "                              도서명   저자      정가\n",
       "0  2024 SD에듀 빅데이터분석기사 필기 한권으로 끝내기  정혜정  33,300\n",
       "1       빅분기30일합격 2024 빅데이터분석기사 필기  장희선  30,600\n",
       "2        2024 이기적 빅데이터분석기사 필기 기본서  최우슬  29,700\n",
       "3                스마트공장 질적 고도화를 위한  최다정  18,000\n",
       "4                   제조AI빅데이터 분석기법  나홍석  29,700"
      ]
     },
     "execution_count": 5,
     "metadata": {},
     "output_type": "execute_result"
    }
   ],
   "source": [
    "# 데이터프레임으로 저장\n",
    "import pandas as pd\n",
    "df = pd.DataFrame(books, columns=['도서명', '저자', '정가'])\n",
    "df.head()"
   ]
  },
  {
   "cell_type": "code",
   "execution_count": 6,
   "metadata": {},
   "outputs": [],
   "source": [
    "df.to_csv('c:/data/book/data.csv', encoding='utf8', index=False)"
   ]
  }
 ],
 "metadata": {
  "kernelspec": {
   "display_name": "Python 3",
   "language": "python",
   "name": "python3"
  },
  "language_info": {
   "codemirror_mode": {
    "name": "ipython",
    "version": 3
   },
   "file_extension": ".py",
   "mimetype": "text/x-python",
   "name": "python",
   "nbconvert_exporter": "python",
   "pygments_lexer": "ipython3",
   "version": "3.12.1"
  }
 },
 "nbformat": 4,
 "nbformat_minor": 2
}
