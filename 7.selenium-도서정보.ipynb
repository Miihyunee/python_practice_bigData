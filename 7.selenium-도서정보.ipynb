{
 "cells": [
  {
   "cell_type": "code",
   "execution_count": 19,
   "metadata": {},
   "outputs": [],
   "source": [
    "from selenium import webdriver\n",
    "from webdriver_manager.chrome import ChromeDriverManager\n",
    "from selenium.webdriver.chrome.service import Service\n",
    "ChromeDriverManager().install()\n",
    "\n",
    "driver = webdriver.Chrome(service=Service(ChromeDriverManager().install()))"
   ]
  },
  {
   "cell_type": "code",
   "execution_count": 20,
   "metadata": {},
   "outputs": [],
   "source": [
    "import time\n",
    "from selenium.webdriver.common.keys import Keys\n",
    "driver.get(\"https://www.kyobobook.co.kr/\")\n",
    "time.sleep(1)"
   ]
  },
  {
   "cell_type": "code",
   "execution_count": 21,
   "metadata": {},
   "outputs": [],
   "source": [
    "keyword='파이썬'\n",
    "driver.find_element('xpath', '//*[@id=\"searchKeyword\"]').send_keys(keyword)\n",
    "driver.find_element('xpath', '//*[@id=\"searchKeyword\"]').send_keys(Keys.RETURN)"
   ]
  },
  {
   "cell_type": "code",
   "execution_count": 22,
   "metadata": {},
   "outputs": [],
   "source": [
    "# 도서명\n",
    "titles=[]\n",
    "for i in range(1,21):\n",
    "    title=driver.find_element('xpath', f'//*[@id=\"shopData_list\"]/ul/li[{i}]/div[1]/div[2]/div[2]/div[1]/div/a').text\n",
    "    titles.append(title)"
   ]
  },
  {
   "cell_type": "code",
   "execution_count": 24,
   "metadata": {},
   "outputs": [
    {
     "data": {
      "text/plain": [
       "['[국내도서] 예약판매 파이썬으로 배우는 엔지니어링',\n",
       " '[국내도서] 예약판매 파이썬으로 여는 수학의 문',\n",
       " '[국내도서] 예약판매 실무로 통하는 인과추론 with 파이썬',\n",
       " '[국내도서] 작심 3일 파이썬 Python',\n",
       " '[국내도서] 파이썬(Python) 3학년 머신러닝의 구조',\n",
       " '[국내도서] 2023 빅데이터분석기사 실기 한권완성 파이썬(Python)',\n",
       " '[국내도서] 파이썬 딥러닝 케라스(Python Deep Learning Keras)',\n",
       " '[POD] POD The Python - 파이썬 프로그래밍',\n",
       " '[국내도서] 예제 중심의 파이썬(Python) 3',\n",
       " '[국내도서] 파이썬 딥러닝 파이토치(Python Deep Learning PyTorch)',\n",
       " '[국내도서] 초보자를 위한 파이썬(Python) 200제',\n",
       " '[국내도서] 파이썬(Python) 2학년 스크래핑의 구조',\n",
       " '[국내도서] 파이썬 플라스크 웹 앱 개발 입문',\n",
       " '[국내도서] 파이썬 스킬 업',\n",
       " '[국내도서] 파이썬과 Qt6로 GUI 애플리케이션 만들기',\n",
       " '[국내도서] 파이썬을 여행하는 히치하이커를 위한 안내서',\n",
       " '[국내도서] 객체지향 파이썬 프로그래밍',\n",
       " '[국내도서] 제대로 빠르게 파이썬 입문',\n",
       " '[국내도서] 암호 해킹으로 배우는 파이썬의 기초',\n",
       " '[국내도서] 파이썬 데이터 클리닝 쿡북']"
      ]
     },
     "execution_count": 24,
     "metadata": {},
     "output_type": "execute_result"
    }
   ],
   "source": [
    "titles"
   ]
  }
 ],
 "metadata": {
  "kernelspec": {
   "display_name": "Python 3",
   "language": "python",
   "name": "python3"
  },
  "language_info": {
   "codemirror_mode": {
    "name": "ipython",
    "version": 3
   },
   "file_extension": ".py",
   "mimetype": "text/x-python",
   "name": "python",
   "nbconvert_exporter": "python",
   "pygments_lexer": "ipython3",
   "version": "3.12.1"
  }
 },
 "nbformat": 4,
 "nbformat_minor": 2
}
