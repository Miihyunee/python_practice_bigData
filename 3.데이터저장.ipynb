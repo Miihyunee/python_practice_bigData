{
 "cells": [
  {
   "cell_type": "code",
   "execution_count": 1,
   "metadata": {},
   "outputs": [
    {
     "name": "stdout",
     "output_type": "stream",
     "text": [
      "저장되었습니다.\n"
     ]
    }
   ],
   "source": [
    "import csv\n",
    "from urllib.request import urlopen\n",
    "from bs4 import BeautifulSoup\n",
    "html = urlopen('https://en.wikipedia.org/wiki/java')\n",
    "bs=BeautifulSoup(html,'html.parser')\n",
    "table = bs.find_all('table', {'class', 'wikitable'})[0]\n",
    "rows= table.find_all('tr')\n",
    "csvFile = open('c:/data/csv/editors.csv', 'w', newline='', encoding='utf-8')\n",
    "writer = csv.writer(csvFile)\n",
    "try:\n",
    "    for row in rows:\n",
    "        csvRow=[]\n",
    "        for cell in row.find_all(['td', 'th']):\n",
    "            csvRow.append(cell.text.strip())\n",
    "        writer.writerow(csvRow)\n",
    "finally:\n",
    "    print('저장되었습니다.')\n",
    "    csvFile.close()"
   ]
  },
  {
   "cell_type": "code",
   "execution_count": 8,
   "metadata": {},
   "outputs": [
    {
     "name": "stdout",
     "output_type": "stream",
     "text": [
      "/wiki/%EA%B0%9D%EC%B2%B4_%EC%A7%80%ED%96%A5_%ED%94%84%EB%A1%9C%EA%B7%B8%EB%9E%98%EB%B0%8D\n",
      "/wiki/%EC%BB%B4%ED%93%A8%ED%84%B0_%ED%94%84%EB%A1%9C%EA%B7%B8%EB%9E%98%EB%B0%8D\n",
      "/wiki/%EA%B0%9D%EC%B2%B4_%EC%A7%80%ED%96%A5_%ED%94%84%EB%A1%9C%EA%B7%B8%EB%9E%98%EB%B0%8D\n",
      "/wiki/%EC%98%A4%EB%B8%8C%EC%A0%9D%ED%8B%B0%EB%B8%8C-C\n",
      "/wiki/%ED%81%B4%EB%9E%AD\n",
      "/wiki/%EC%98%A4%EB%B8%8C%EC%A0%9D%ED%8B%B0%EB%B8%8C-C\n",
      "/wiki/%EC%8A%A4%EB%AA%B0%ED%86%A0%ED%81%AC\n",
      "/wiki/%EB%A7%A4%ED%82%A8%ED%86%A0%EC%8B%9C\n",
      "/wiki/%EC%8B%9C%EC%8A%A4%ED%85%9C_7\n",
      "/wiki/%EA%B0%80%EC%83%81_%EB%A9%94%EB%AA%A8%EB%A6%AC\n",
      "/wiki/%EC%93%B0%EB%A0%88%EA%B8%B0_%EC%88%98%EC%A7%91_(%EC%BB%B4%ED%93%A8%ED%84%B0_%EA%B3%BC%ED%95%99)\n",
      "/wiki/%EC%9A%B4%EC%98%81%EC%B2%B4%EC%A0%9C\n",
      "/wiki/%EC%88%98%ED%8D%BC%EB%B0%94%EC%9D%B4%EC%A0%80_%EB%AA%A8%EB%93%9C\n",
      "/wiki/%EC%9A%B4%EC%98%81%EC%B2%B4%EC%A0%9C_%EC%8B%9C%EC%9E%A5_%EC%A0%90%EC%9C%A0%EC%9C%A8\n",
      "/wiki/FreeBSD\n",
      "/wiki/%EC%9B%A8%EC%9D%B4%EB%B0%B1_%EB%A8%B8%EC%8B%A0\n",
      "/wiki/%EA%B9%A8%EC%A7%84_%EB%A7%81%ED%81%AC\n",
      "/wiki/%ED%8D%BC%EB%A8%B8%EB%A7%81%ED%81%AC\n",
      "/wiki/%EB%B8%94%EB%A1%9C%EA%B7%B8\n",
      "/wiki/%EB%A7%88%EC%9D%B4%ED%81%AC%EB%A1%9C_%EB%B8%94%EB%A1%9C%EA%B7%B8\n",
      "/wiki/VK_(%EC%86%8C%EC%85%9C_%EB%84%A4%ED%8A%B8%EC%9B%8C%ED%81%AC)\n",
      "/wiki/%ED%8C%8C%EB%B2%A8_%EB%91%90%EB%A1%9C%ED%94%84\n",
      "/wiki/%EC%9C%84%ED%82%A4%EB%AF%B8%EB%94%94%EC%96%B4_%EA%B3%B5%EC%9A%A9\n",
      "/wiki/%EC%9C%84%ED%82%A4%EC%9D%B8%EC%9A%A9%EC%A7%91\n",
      "/wiki/%EB%AF%B8%EB%94%94%EC%96%B4%EC%9C%84%ED%82%A4\n",
      "/wiki/%EB%A0%88%EB%93%9C%EB%A7%88%EC%9D%B8\n",
      "/wiki/%EC%A7%80%EB%9D%BC_(%EC%86%8C%ED%94%84%ED%8A%B8%EC%9B%A8%EC%96%B4)\n",
      "/wiki/%EC%9E%90%EC%9C%A0_%EC%86%8C%ED%94%84%ED%8A%B8%EC%9B%A8%EC%96%B4\n",
      "/wiki/%EC%9E%90%EC%9C%A0-%EC%98%A4%ED%94%88_%EC%86%8C%EC%8A%A4_%EC%86%8C%ED%94%84%ED%8A%B8%EC%9B%A8%EC%96%B4\n",
      "/wiki/%EC%95%84%ED%8C%8C%EC%B9%98_%EB%9D%BC%EC%9D%B4%EC%84%A0%EC%8A%A4\n",
      "/wiki/MIT_%ED%97%88%EA%B0%80%EC%84%9C\n",
      "/wiki/JQuery\n",
      "/wiki/AJAX\n",
      "/wiki/JSON-RPC\n",
      "/wiki/XML-RPC\n",
      "/wiki/Base64\n",
      "/wiki/%EC%A0%84%EC%9E%90_%EB%A9%94%EC%9D%BC\n",
      "/wiki/%EB%A7%88%EC%9D%B4%ED%81%AC%EB%A1%9C%EC%86%8C%ED%94%84%ED%8A%B8\n",
      "/wiki/%EC%84%9C%ED%94%BC%EC%8A%A4_%ED%94%84%EB%A1%9C_3\n",
      "/wiki/%EB%A7%88%EC%9D%B4%ED%81%AC%EB%A1%9C%EC%86%8C%ED%94%84%ED%8A%B8_%EB%B0%B4%EB%93%9C\n",
      "/wiki/%EC%82%BC%EC%84%B1_%EA%B0%A4%EB%9F%AD%EC%8B%9C_%EC%9B%8C%EC%B9%98\n",
      "/wiki/%EC%82%BC%EC%84%B1_%EA%B0%A4%EB%9F%AD%EC%8B%9C_%EB%B2%84%EC%A6%882\n",
      "/wiki/%EC%82%BC%EC%84%B1_%EA%B0%A4%EB%9F%AD%EC%8B%9C_%EC%9B%8C%EC%B9%98_4\n",
      "/wiki/%EB%B8%94%EB%A3%A8%ED%88%AC%EC%8A%A4\n",
      "/wiki/%EB%AC%B4%EC%84%A0_%ED%86%B5%EC%8B%A0\n",
      "/wiki/%EB%A0%88%EC%9D%B4%EC%A0%80\n",
      "/wiki/%EB%9D%BC%EC%9D%B4%EB%8B%A4\n",
      "/wiki/%EB%A0%88%EC%9D%B4%EB%8B%A4\n",
      "/wiki/%EB%A0%88%EC%9D%B4%EC%A0%80_%EB%A0%88%EC%9D%B4%EB%8B%A4\n",
      "완료되었습니다.\n"
     ]
    }
   ],
   "source": [
    "from urllib.request import urlopen\n",
    "from bs4 import BeautifulSoup as bs\n",
    "import re\n",
    "import random\n",
    "import pymysql\n",
    "\n",
    "# DB 접속\n",
    "conn = pymysql.connect(host='localhost', port=3306, user='web', password='1234', db='myweb', charset='utf8')\n",
    "cursor = conn.cursor()\n",
    "# DB 생성\n",
    "cursor.execute(\"use myweb\")\n",
    "cursor.execute(\"delete from pages\")\n",
    "\n",
    "# insert 함수\n",
    "def store(title, content):\n",
    "    # 따옴표 처리\n",
    "    title = title.replace(\"'\", \"''\") # 작은 따옴표 1개를 2개로\n",
    "    content = content.replace(\"'\", \"''\")\n",
    "    sql = \"insert into pages (title, content) values ('%s', '%s')\" % (title, content)\n",
    "    cursor.execute(sql)\n",
    "    conn.commit()\n",
    "\n",
    "\n",
    "# 위키피디아의 url 수집\n",
    "def getLinks(url):\n",
    "    html = urlopen(\"http://ko.wikipedia.org\" + url)\n",
    "\n",
    "    obj = bs(html, \"html.parser\")\n",
    "    # h1 태그의 내용\n",
    "    title = obj.find(\"h1\").text\n",
    "    # id가 mw-content-text인 div 태그 내부의 p 태그의 텍스트\n",
    "    content = obj.find(\"div\", {\"id\":\"mw-content-text\"}).find(\"p\").text\n",
    "    # 테이블에 저장\n",
    "    store(title, content)\n",
    "    # 링크를 리턴함(정규표현식 사용, ^시작, $끝, * 0회 이상 반복)\n",
    "    return obj.find(\"div\", {\"id\": \"bodyContent\"}).find_all(\"a\", href=re.compile(\"^(/wiki/)((?!:).)*$\"))\n",
    "\n",
    "# 함수 호출(주소창에 한글을 입력하면 코드에서는 url encoding 처리됨)\n",
    "links = getLinks(\"/wiki/%EC%9E%90%EB%B0%94\")\n",
    "try:\n",
    "    cnt = 0\n",
    "    while True:\n",
    "        cnt += 1\n",
    "        if cnt >= 50: #10건만 처리\n",
    "            break\n",
    "        # url 리스트 중에서 랜덤으로 url 선택\n",
    "        newArticle = links[random.randint(0, len(links)-1)].attrs[\"href\"]\n",
    "        print(newArticle)\n",
    "        #해당 문서에 포함된 새로운 링크를 가져옴\n",
    "        links = getLinks(newArticle)\n",
    "finally:\n",
    "    cursor.close()\n",
    "    conn.close()\n",
    "    print(\"완료되었습니다.\")"
   ]
  },
  {
   "cell_type": "code",
   "execution_count": 9,
   "metadata": {},
   "outputs": [
    {
     "data": {
      "text/plain": [
       "9"
      ]
     },
     "execution_count": 9,
     "metadata": {},
     "output_type": "execute_result"
    }
   ],
   "source": [
    "len(links)"
   ]
  }
 ],
 "metadata": {
  "kernelspec": {
   "display_name": "Python 3",
   "language": "python",
   "name": "python3"
  },
  "language_info": {
   "codemirror_mode": {
    "name": "ipython",
    "version": 3
   },
   "file_extension": ".py",
   "mimetype": "text/x-python",
   "name": "python",
   "nbconvert_exporter": "python",
   "pygments_lexer": "ipython3",
   "version": "3.12.1"
  }
 },
 "nbformat": 4,
 "nbformat_minor": 2
}
